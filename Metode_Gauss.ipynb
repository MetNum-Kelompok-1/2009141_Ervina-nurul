{
  "nbformat": 4,
  "nbformat_minor": 0,
  "metadata": {
    "colab": {
      "provenance": []
    },
    "kernelspec": {
      "name": "python3",
      "display_name": "Python 3"
    },
    "language_info": {
      "name": "python"
    }
  },
  "cells": [
    {
      "cell_type": "markdown",
      "source": [
        "2009141 - Ervina Nurul Asihani \n",
        "(KOM-5B)\n",
        "-- Solusi SPL dengan Metode Gauss --"
      ],
      "metadata": {
        "id": "gTO-vquK7Juv"
      }
    },
    {
      "cell_type": "code",
      "source": [
        "import numpy as np\n",
        "import sys\n",
        "\n",
        "n = int(input('masukkan variabel: '))\n",
        "a = np.zeros((n,n+1))\n",
        "x = np.zeros(n)\n",
        "\n",
        "print('masukkan nilai pembagi dan nilai kanan pada SPL:')\n",
        "\n",
        "for i in range(n): \n",
        "    for j in range(n+1):\n",
        "        a[i][j] = float(input( 'Baris ['+str(i)+'] Kolom ['+ str(j)+']='))        \n",
        "           \n",
        "for i in range(n):\n",
        "    if a[i][i] == 0.0: \n",
        "        sys.exit('Terdapat nilai 0 pada diagonal utama')  \n",
        "          \n",
        "        \n",
        "    for j in range(i+1, n):\n",
        "        ratio = a[j][i]/a[i][i]      \n",
        "        for k in range(n+1):          \n",
        "            a[j][k] = a[j][k] - ratio * a[i][k]\n",
        "            \n",
        "x[n-1] = a[n-1][n]/a[n-1][n-1]\n",
        "for i in range(n-2,-1,-1):\n",
        "    x[i] = a[i][n]   \n",
        "    \n",
        "    for j in range(i+1,n):\n",
        "        x[i] = x[i] - a[i][j]*x[j]       \n",
        "        \n",
        "print('\\nSolusi SPL dengan Metode Gauss: ')\n",
        "for i in range(n):\n",
        "    print('X%d = %0.2f' %(i,x[i]), end = '\\t')\n",
        "3"
      ],
      "metadata": {
        "colab": {
          "base_uri": "https://localhost:8080/"
        },
        "id": "oiIwRvpL7EkL",
        "outputId": "c3256c6a-e55e-4201-cb87-e7c406406e0a"
      },
      "execution_count": 3,
      "outputs": [
        {
          "output_type": "stream",
          "name": "stdout",
          "text": [
            "masukkan variabel: 2\n",
            "masukkan nilai pembagi dan nilai kanan pada SPL:\n",
            "Baris [0] Kolom [0]=3\n",
            "Baris [0] Kolom [1]=2\n",
            "Baris [0] Kolom [2]=1\n",
            "Baris [1] Kolom [0]=4\n",
            "Baris [1] Kolom [1]=2\n",
            "Baris [1] Kolom [2]=4\n",
            "\n",
            "Solusi SPL dengan Metode Gauss: \n",
            "X0 = 9.00\tX1 = -4.00\t"
          ]
        },
        {
          "output_type": "execute_result",
          "data": {
            "text/plain": [
              "3"
            ]
          },
          "metadata": {},
          "execution_count": 3
        }
      ]
    }
  ]
}