{
  "nbformat": 4,
  "nbformat_minor": 0,
  "metadata": {
    "colab": {
      "provenance": []
    },
    "kernelspec": {
      "name": "python3",
      "display_name": "Python 3"
    },
    "language_info": {
      "name": "python"
    }
  },
  "cells": [
    {
      "cell_type": "markdown",
      "source": [
        "2009141 - Ervina Nurul Asihani \n",
        "(KOM-5B)\n",
        "-- Solusi SPL dengan Metode Gauss Jordan --"
      ],
      "metadata": {
        "id": "cnXmOeEL8QBX"
      }
    },
    {
      "cell_type": "code",
      "execution_count": 1,
      "metadata": {
        "colab": {
          "base_uri": "https://localhost:8080/"
        },
        "id": "_QVVxbke8PLN",
        "outputId": "54752a79-b8f3-4712-fbf9-6b29ca14e66f"
      },
      "outputs": [
        {
          "output_type": "stream",
          "name": "stdout",
          "text": [
            "masukkan variabel: 2\n",
            "masukkan nilai pembagi dan nilai kanan pada persamaan:\n",
            "Baris [0] Kolom [0]=1\n",
            "Baris [0] Kolom [1]=4\n",
            "Baris [0] Kolom [2]=3\n",
            "Baris [1] Kolom [0]=6\n",
            "Baris [1] Kolom [1]=2\n",
            "Baris [1] Kolom [2]=1\n",
            "\n",
            "Solusi SPL metode Gauss-Jordan: \n",
            "X0 = -0.09 \t\n",
            "X1 = 0.77 \t\n"
          ]
        }
      ],
      "source": [
        "import numpy as np \n",
        "import sys\n",
        "\n",
        "n = int(input('masukkan variabel: ')) \n",
        "a = np.zeros((n,n+1))\n",
        "x = np.zeros(n) \n",
        "print('masukkan nilai pembagi dan nilai kanan pada persamaan:')\n",
        "\n",
        "for i in range(n):\n",
        "    for j in range(n+1):\n",
        "        a[i][j] = float(input( 'Baris ['+str(i)+'] Kolom ['+ str(j)+']='))     \n",
        "        \n",
        "for i in range(n):\n",
        "    if a[i][i] == 0.0: \n",
        "        sys.exit('Terdapat nilai 0 pada diagonal utama')\n",
        "        \n",
        "    for j in range(n):\n",
        "        if i != j: \n",
        "            ratio = a[j][i]/a[i][i] \n",
        "\n",
        "            for k in range(n+1): #(3) : 0, 1, 2\n",
        "                a[j][k] = a[j][k] - ratio * a[i][k] \n",
        "                \n",
        "for i in range(n):\n",
        "    x[i] = a[i][n]/a[i][i]\n",
        "    \n",
        "print('\\nSolusi SPL metode Gauss-Jordan: ')\n",
        "for i in range(n):\n",
        "    print('X%d = %0.2f' %(i,x[i]), '\\t')\n"
      ]
    }
  ]
}