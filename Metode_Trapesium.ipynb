{
  "nbformat": 4,
  "nbformat_minor": 0,
  "metadata": {
    "colab": {
      "provenance": []
    },
    "kernelspec": {
      "name": "python3",
      "display_name": "Python 3"
    },
    "language_info": {
      "name": "python"
    }
  },
  "cells": [
    {
      "cell_type": "markdown",
      "source": [
        "2009141 - Ervina Nurul Asihani \n",
        "(KOM-5B)\n",
        "-- Metode Trapesium --"
      ],
      "metadata": {
        "id": "dDTgjTDU9qpA"
      }
    },
    {
      "cell_type": "code",
      "execution_count": 1,
      "metadata": {
        "colab": {
          "base_uri": "https://localhost:8080/"
        },
        "id": "EoXQ_8gY9p0F",
        "outputId": "0568291f-690d-4d6b-a199-410b671d1d94"
      },
      "outputs": [
        {
          "output_type": "stream",
          "name": "stdout",
          "text": [
            "Masukan nilai persamaan fungsinya : 3\n",
            "Masukkan nilai untuk batas bawah: 1\n",
            "Masukkan nilai untuk batas atas: 3\n",
            "Masukkan banyaknya iterasi: 2\n",
            "Nilai integrasi metode trapesium: 6.000000\n"
          ]
        }
      ],
      "source": [
        "e= 2.71828\n",
        "def f(x):\n",
        "    pepega = eval(fx)\n",
        "    return pepega\n",
        "\n",
        "# Implementasi algoritma trapesium\n",
        "def trapezoidal(a,b,n):\n",
        "    h = (b - a) / n\n",
        "    integration = f(a)+f(b)\n",
        "    for i in range(1,n):\n",
        "        k = a + i*h\n",
        "        integration = integration+ 2 * f(k)\n",
        "    integration = integration * h/2\n",
        "    return integration\n",
        "    \n",
        "# Input value fungsi, batas bawah & atas, jumlah iterasi\n",
        "fx = str(input(\"Masukan nilai persamaan fungsinya : \"))\n",
        "a = float(input(\"Masukkan nilai untuk batas bawah: \"))\n",
        "b = float(input(\"Masukkan nilai untuk batas atas: \"))\n",
        "n = int(input(\"Masukkan banyaknya iterasi: \"))\n",
        "\n",
        "# Menampilkan hasil dan panggil struktur fungsi\n",
        "result = trapezoidal(a, b, n)\n",
        "print(\"Nilai integrasi metode trapesium: %0.6f\" % (result))\n"
      ]
    }
  ]
}