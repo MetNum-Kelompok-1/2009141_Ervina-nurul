{
  "nbformat": 4,
  "nbformat_minor": 0,
  "metadata": {
    "colab": {
      "provenance": []
    },
    "kernelspec": {
      "name": "python3",
      "display_name": "Python 3"
    },
    "language_info": {
      "name": "python"
    }
  },
  "cells": [
    {
      "cell_type": "markdown",
      "source": [
        "2009141 - Ervina Nurul Asihani \n",
        "(KOM-5B)\n",
        "-- Interpolasi --"
      ],
      "metadata": {
        "id": "CJFkvqm-8ood"
      }
    },
    {
      "cell_type": "code",
      "source": [],
      "metadata": {
        "id": "JKbHBkd6_WMk"
      },
      "execution_count": null,
      "outputs": []
    },
    {
      "cell_type": "code",
      "source": [],
      "metadata": {
        "id": "VcpZedAp_WKd"
      },
      "execution_count": null,
      "outputs": []
    },
    {
      "cell_type": "code",
      "execution_count": 1,
      "metadata": {
        "colab": {
          "base_uri": "https://localhost:8080/",
          "height": 413
        },
        "id": "q5NvOsay8oBR",
        "outputId": "ad43d0b2-979d-47ae-cdcd-468b61d83561"
      },
      "outputs": [
        {
          "output_type": "stream",
          "name": "stdout",
          "text": [
            "Memasukan titik yang ingin dihitung: 2\n",
            "Masukan nilai x dan y: \n",
            "x[0]=2\n",
            "y[0]=1\n",
            "x[1]=3\n",
            "y[1]=1\n",
            "masukan input : 2\n",
            "Pada x 2.000 mempunyai f(x) atau y  1.000\n"
          ]
        },
        {
          "output_type": "display_data",
          "data": {
            "text/plain": [
              "<Figure size 432x288 with 1 Axes>"
            ],
            "image/png": "[encoded data removed]"
          },
          "metadata": {
            "needs_background": "light"
          }
        }
      ],
      "source": [
        "import numpy as np\n",
        "import matplotlib.pyplot as plt\n",
        "\n",
        "# deklrasi variable n untuk menampung banyak titik\n",
        "n = int(input('Memasukan titik yang ingin dihitung: '))\n",
        "\n",
        "# deklrasi variable x untuk menampung nilai pada x\n",
        "x = np.zeros((n))\n",
        "\n",
        "#deklrasi variable y untuk menampung nilai pada y\n",
        "y = np.zeros((n))\n",
        "\n",
        "# Masukan data x dan y dan deklarasi sistem perulangan\n",
        "print('Masukan nilai x dan y: ')\n",
        "for i in range(n):\n",
        "    x[i] = float(input( 'x['+str(i)+']=')) # masukan x[i]\n",
        "    y[i] = float(input( 'y['+str(i)+']=')) # masukan y[i]\n",
        "\n",
        "\n",
        "xp = float(input('masukan titik : '))\n",
        "yp = 0 \n",
        "\n",
        "# notasi algoritma Lagrange\n",
        "for i in range(n): \n",
        "    p = 1\n",
        "    for j in range(n):\n",
        "        if i != j:\n",
        "            p = p * (xp - x[j])/(x[i] - x[j])\n",
        "    yp = yp + p * y[i]    \n",
        "    \n",
        "print('Pada x %.3f mempunyai f(x) atau y  %.3f' % (xp, yp))\n",
        "plt.plot(x, y, marker = '*')\n",
        "plt.plot(xp, yp, marker = 'o')\n",
        "plt.show()\n"
      ]
    }
  ]
}