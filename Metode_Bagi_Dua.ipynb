{
  "nbformat": 4,
  "nbformat_minor": 0,
  "metadata": {
    "colab": {
      "provenance": []
    },
    "kernelspec": {
      "name": "python3",
      "display_name": "Python 3"
    },
    "language_info": {
      "name": "python"
    }
  },
  "cells": [
    {
      "cell_type": "markdown",
      "source": [
        "2009141 - Ervina Nurul Asihani \n",
        "(KOM-5B)\n",
        "-- Metode Bagi Dua --"
      ],
      "metadata": {
        "id": "zDgU0O4l-YfY"
      }
    },
    {
      "cell_type": "code",
      "execution_count": 1,
      "metadata": {
        "colab": {
          "base_uri": "https://localhost:8080/"
        },
        "id": "C7Vbz_ey-XzU",
        "outputId": "e3f7ff45-ba2f-4c1d-cde6-9fde26caa7b3"
      },
      "outputs": [
        {
          "output_type": "stream",
          "name": "stdout",
          "text": [
            "Masukkan persamaan fungsi x : 3\n",
            "Masukkan nilai a : 2\n",
            "Masukkan nilai b : 1\n",
            "Akar persamaan adalah  2.0  dan  1.0\n",
            "persamaan tidak memiliki akar\n",
            "Akar persamaannya adalah =  2.0  dan  1.0\n"
          ]
        }
      ],
      "source": [
        "import numpy as np\n",
        "#import matplotlib.pyplot as plt\n",
        "\n",
        "pers = input(\"Masukkan persamaan fungsi x : \")\n",
        "a = float(input(\"Masukkan nilai a : \"))\n",
        "b = float(input(\"Masukkan nilai b : \"))\n",
        "e = 1e-5 #error\n",
        "\n",
        "print(\"Akar persamaan adalah \", a, \" dan \", b)\n",
        "\n",
        "def f(x) :\n",
        "  return eval(pers) \n",
        "\n",
        "if f(a)*f(b)>0:\n",
        "  print(\"persamaan tidak memiliki akar\")\n",
        "else :\n",
        "  print(\"n \\t   a  \\t\\t b \\t\\t  xn  \\t\\t  f(a)  \\t  f(b)  \\t f(xn)\")\n",
        "  for i in range(10):\n",
        "    x = (a+b)/2\n",
        "    print (i+1, \"\\t\", format(a, \".5f\"), \"\\t\", format(b, \".5f\"), \"\\t\", format(x, \".5f\"), \"\\t\", format(f(a), \".5f\"), \"\\t\", format(f(b), \".5f\"), \"\\t\", format(f(x), \".5f\"))\n",
        "    if abs (f(x))<=e:\n",
        "      break;\n",
        "    elif f(a)*f(x)<=0 :\n",
        "      b = x\n",
        "    else :\n",
        "      a=x\n"
      ]
    }
  ]
}