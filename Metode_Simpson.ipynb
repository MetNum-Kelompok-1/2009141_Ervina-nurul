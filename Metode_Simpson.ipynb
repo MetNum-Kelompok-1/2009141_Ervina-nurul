{
  "nbformat": 4,
  "nbformat_minor": 0,
  "metadata": {
    "colab": {
      "provenance": []
    },
    "kernelspec": {
      "name": "python3",
      "display_name": "Python 3"
    },
    "language_info": {
      "name": "python"
    }
  },
  "cells": [
    {
      "cell_type": "markdown",
      "source": [
        "2009141 - Ervina Nurul Asihani \n",
        "(KOM-5B)\n",
        "-- Metode Simpson --"
      ],
      "metadata": {
        "id": "cgC3nAwI9T1Q"
      }
    },
    {
      "cell_type": "code",
      "execution_count": 1,
      "metadata": {
        "colab": {
          "base_uri": "https://localhost:8080/"
        },
        "id": "At0xjhNR9S-h",
        "outputId": "2be7b5d0-bff9-45f0-8fd6-e6402d82581b"
      },
      "outputs": [
        {
          "output_type": "stream",
          "name": "stdout",
          "text": [
            "Masukan Fungsi: 1\n",
            "Masukan Batas Bawah: 2\n",
            "Masukan Batas Atas: 3\n",
            "Masukan Banyak Partisi: 12\n",
            "1\n",
            "5\n",
            "7\n",
            "11\n",
            "13\n",
            "17\n",
            "19\n",
            "23\n",
            "25\n",
            "29\n",
            "31\n",
            "35\n",
            "36\n",
            "Nilai integrasi metode simpson : 1.000000\n"
          ]
        }
      ],
      "source": [
        "# buat code untuk memasukkan inputan value\n",
        "e = 2.718\n",
        "z = str(input(\"Masukan Fungsi: \"))\n",
        "batasBawah = float(input(\"Masukan Batas Bawah: \"))\n",
        "batasAtas = float(input(\"Masukan Batas Atas: \"))\n",
        "sub_interval = int(input(\"Masukan Banyak Partisi: \"))\n",
        "\n",
        "def f(n): #fungsi yang berfungsi untuk mengembalikan nilai dari f(x)\n",
        "    temp = eval(z)\n",
        "    return temp\n",
        "\n",
        "# metode simpson\n",
        "def simpson13(x0,xn,n):\n",
        "    #menghitung setiap step\n",
        "    h = (xn - x0) / n # mencari jarak interval antar titik (delta x)\n",
        "    \n",
        "    for i in range(n+1): \n",
        "         \n",
        "        k = x0 + i*h \n",
        "        if i == 0:\n",
        "            integration = f(x0)\n",
        "            \n",
        "        elif i == n:\n",
        "            integration = integration + f(xn)\n",
        "            \n",
        "        elif i%2 == 0:\n",
        "            integration = integration + 2 * f(k)\n",
        "            \n",
        "        elif i%2 == 1:\n",
        "            integration = integration + 4 * f(k)\n",
        "        print (integration)\n",
        "        \n",
        "    #  Nilai akhir integrasi dari metode simpson\n",
        "    integration = integration * h/3\n",
        "    \n",
        "    return integration\n",
        "    \n",
        "\n",
        "# Print hasil\n",
        "result = simpson13(batasBawah, batasAtas, sub_interval)\n",
        "print(\"Nilai integrasi metode simpson : %0.6f\"%(result))\n"
      ]
    }
  ]
}